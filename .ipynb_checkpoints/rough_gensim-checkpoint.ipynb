{
 "cells": [
  {
   "cell_type": "code",
   "execution_count": 16,
   "id": "8e91c478",
   "metadata": {},
   "outputs": [
    {
     "name": "stdout",
     "output_type": "stream",
     "text": [
      "\u001b[33mDEPRECATION: Configuring installation scheme with distutils config files is deprecated and will no longer work in the near future. If you are using a Homebrew or Linuxbrew Python, please see discussion at https://github.com/Homebrew/homebrew-core/issues/76621\u001b[0m\u001b[33m\n",
      "\u001b[0mCollecting gensim\n",
      "  Downloading gensim-4.2.0-cp39-cp39-macosx_10_9_x86_64.whl (24.0 MB)\n",
      "\u001b[2K     \u001b[90m━━━━━━━━━━━━━━━━━━━━━━━━━━━━━━━━━━━━━━━━\u001b[0m \u001b[32m24.0/24.0 MB\u001b[0m \u001b[31m17.5 MB/s\u001b[0m eta \u001b[36m0:00:00\u001b[0m00:01\u001b[0m00:01\u001b[0m\n",
      "\u001b[?25hRequirement already satisfied: scipy>=0.18.1 in /usr/local/lib/python3.9/site-packages (from gensim) (1.8.1)\n",
      "Requirement already satisfied: numpy>=1.17.0 in /usr/local/lib/python3.9/site-packages (from gensim) (1.22.3)\n",
      "Collecting smart-open>=1.8.1\n",
      "  Downloading smart_open-6.0.0-py3-none-any.whl (58 kB)\n",
      "\u001b[2K     \u001b[90m━━━━━━━━━━━━━━━━━━━━━━━━━━━━━━━━━━━━━━━━\u001b[0m \u001b[32m58.4/58.4 KB\u001b[0m \u001b[31m2.0 MB/s\u001b[0m eta \u001b[36m0:00:00\u001b[0m\n",
      "\u001b[?25hInstalling collected packages: smart-open, gensim\n",
      "\u001b[33m  DEPRECATION: Configuring installation scheme with distutils config files is deprecated and will no longer work in the near future. If you are using a Homebrew or Linuxbrew Python, please see discussion at https://github.com/Homebrew/homebrew-core/issues/76621\u001b[0m\u001b[33m\n",
      "\u001b[0m\u001b[33m  DEPRECATION: Configuring installation scheme with distutils config files is deprecated and will no longer work in the near future. If you are using a Homebrew or Linuxbrew Python, please see discussion at https://github.com/Homebrew/homebrew-core/issues/76621\u001b[0m\u001b[33m\n",
      "\u001b[0m\u001b[33mDEPRECATION: Configuring installation scheme with distutils config files is deprecated and will no longer work in the near future. If you are using a Homebrew or Linuxbrew Python, please see discussion at https://github.com/Homebrew/homebrew-core/issues/76621\u001b[0m\u001b[33m\n",
      "\u001b[0mSuccessfully installed gensim-4.2.0 smart-open-6.0.0\n",
      "\u001b[33mWARNING: You are using pip version 22.0.4; however, version 22.1 is available.\n",
      "You should consider upgrading via the '/usr/local/opt/python@3.9/bin/python3.9 -m pip install --upgrade pip' command.\u001b[0m\u001b[33m\n",
      "\u001b[0m"
     ]
    }
   ],
   "source": [
    "!pip3 install -U gensim"
   ]
  },
  {
   "cell_type": "code",
   "execution_count": 100,
   "id": "eac134d6",
   "metadata": {},
   "outputs": [],
   "source": [
    "import pprint\n",
    "from collections import defaultdict\n",
    "from gensim import corpora\n",
    "from gensim import models\n",
    "from gensim import similarities\n",
    "from smart_open import open\n",
    "import gensim.downloader as api\n",
    "from gensim.test.utils import datapath\n",
    "from gensim import utils\n",
    "import gensim.models\n",
    "import tempfile"
   ]
  },
  {
   "cell_type": "code",
   "execution_count": 3,
   "id": "af162fd5",
   "metadata": {},
   "outputs": [],
   "source": [
    "#creating a document\n",
    "document = \"Human machine interface for lab abc computer applications\""
   ]
  },
  {
   "cell_type": "code",
   "execution_count": 4,
   "id": "8fcf8e1d",
   "metadata": {},
   "outputs": [],
   "source": [
    "#creating corpus\n",
    "text_corpus = [\n",
    "    \"Human machine interface for lab abc computer applications\",\n",
    "    \"A survey of user opinion of computer system response time\",\n",
    "    \"The EPS user interface management system\",\n",
    "    \"System and human system engineering testing of EPS\",\n",
    "    \"Relation of user perceived response time to error measurement\",\n",
    "    \"The generation of random binary unordered trees\",\n",
    "    \"The intersection graph of paths in trees\",\n",
    "    \"Graph minors IV Widths of trees and well quasi ordering\",\n",
    "    \"Graph minors A survey\",\n",
    "]"
   ]
  },
  {
   "cell_type": "code",
   "execution_count": 58,
   "id": "a6f6a8ee",
   "metadata": {},
   "outputs": [],
   "source": [
    "#defining stop words\n",
    "stoplist = set('for a of the and to in'.split())"
   ]
  },
  {
   "cell_type": "code",
   "execution_count": 59,
   "id": "a4b8f576",
   "metadata": {},
   "outputs": [],
   "source": [
    "#iterating through the documents in the corpus and lowercasing the words and excluding the stopwords\n",
    "texts = [[word for word in document.lower().split() if word not in stoplist]\n",
    "         for document in text_corpus]\n",
    "# list of lists of individual tokens of a document"
   ]
  },
  {
   "cell_type": "code",
   "execution_count": 60,
   "id": "97d57d30",
   "metadata": {},
   "outputs": [],
   "source": [
    "#counting the qord frequencies\n",
    "frequency = defaultdict(int)\n",
    "for text in texts:\n",
    "    #print(text)\n",
    "    for token in text:\n",
    "        #print(token)\n",
    "        frequency[token] += 1"
   ]
  },
  {
   "cell_type": "code",
   "execution_count": 61,
   "id": "b2adc472",
   "metadata": {},
   "outputs": [
    {
     "name": "stdout",
     "output_type": "stream",
     "text": [
      "[['human', 'interface', 'computer'],\n",
      " ['survey', 'user', 'computer', 'system', 'response', 'time'],\n",
      " ['eps', 'user', 'interface', 'system'],\n",
      " ['system', 'human', 'system', 'eps'],\n",
      " ['user', 'response', 'time'],\n",
      " ['trees'],\n",
      " ['graph', 'trees'],\n",
      " ['graph', 'minors', 'trees'],\n",
      " ['graph', 'minors', 'survey']]\n"
     ]
    }
   ],
   "source": [
    "#only keeping words that appear more than once\n",
    "processed_corpus = [[token for token in text if frequency[token]>1]for text in texts]\n",
    "pprint.pprint(processed_corpus)"
   ]
  },
  {
   "cell_type": "code",
   "execution_count": 62,
   "id": "c9c19981",
   "metadata": {},
   "outputs": [
    {
     "name": "stderr",
     "output_type": "stream",
     "text": [
      "2022-05-25 19:01:31,495 : INFO : adding document #0 to Dictionary<0 unique tokens: []>\n",
      "2022-05-25 19:01:31,496 : INFO : built Dictionary<12 unique tokens: ['computer', 'human', 'interface', 'response', 'survey']...> from 9 documents (total 29 corpus positions)\n",
      "2022-05-25 19:01:31,497 : INFO : Dictionary lifecycle event {'msg': \"built Dictionary<12 unique tokens: ['computer', 'human', 'interface', 'response', 'survey']...> from 9 documents (total 29 corpus positions)\", 'datetime': '2022-05-25T19:01:31.497547', 'gensim': '4.2.0', 'python': '3.9.12 (main, May  8 2022, 18:05:47) \\n[Clang 13.1.6 (clang-1316.0.21.2)]', 'platform': 'macOS-12.3.1-x86_64-i386-64bit', 'event': 'created'}\n",
      "2022-05-25 19:01:31,498 : INFO : Dictionary lifecycle event {'fname_or_handle': 'deerwester.dict', 'separately': 'None', 'sep_limit': 10485760, 'ignore': frozenset(), 'datetime': '2022-05-25T19:01:31.498296', 'gensim': '4.2.0', 'python': '3.9.12 (main, May  8 2022, 18:05:47) \\n[Clang 13.1.6 (clang-1316.0.21.2)]', 'platform': 'macOS-12.3.1-x86_64-i386-64bit', 'event': 'saving'}\n",
      "2022-05-25 19:01:31,499 : INFO : saved deerwester.dict\n"
     ]
    },
    {
     "name": "stdout",
     "output_type": "stream",
     "text": [
      "Dictionary<12 unique tokens: ['computer', 'human', 'interface', 'response', 'survey']...>\n"
     ]
    }
   ],
   "source": [
    "vocabulary = corpora.Dictionary(processed_corpus)\n",
    "vocabulary.save('deerwester.dict')\n",
    "print(vocabulary)"
   ]
  },
  {
   "cell_type": "code",
   "execution_count": 63,
   "id": "b1fcab0b",
   "metadata": {},
   "outputs": [
    {
     "name": "stdout",
     "output_type": "stream",
     "text": [
      "{'computer': 0,\n",
      " 'eps': 8,\n",
      " 'graph': 10,\n",
      " 'human': 1,\n",
      " 'interface': 2,\n",
      " 'minors': 11,\n",
      " 'response': 3,\n",
      " 'survey': 4,\n",
      " 'system': 5,\n",
      " 'time': 6,\n",
      " 'trees': 9,\n",
      " 'user': 7}\n"
     ]
    }
   ],
   "source": [
    "pprint.pprint(vocabulary.token2id)"
   ]
  },
  {
   "cell_type": "code",
   "execution_count": 64,
   "id": "8dfef854",
   "metadata": {},
   "outputs": [
    {
     "name": "stdout",
     "output_type": "stream",
     "text": [
      "[(0, 3), (1, 2), (8, 1)]\n"
     ]
    }
   ],
   "source": [
    "new_doc = \"Human Human computer computer computer eps interaction\"\n",
    "new_vec = vocabulary.doc2bow(new_doc.lower().split())\n",
    "print(new_vec)"
   ]
  },
  {
   "cell_type": "code",
   "execution_count": 65,
   "id": "4f052f40",
   "metadata": {},
   "outputs": [
    {
     "name": "stdout",
     "output_type": "stream",
     "text": [
      "[[(0, 1), (1, 1), (2, 1)],\n",
      " [(0, 1), (3, 1), (4, 1), (5, 1), (6, 1), (7, 1)],\n",
      " [(2, 1), (5, 1), (7, 1), (8, 1)],\n",
      " [(1, 1), (5, 2), (8, 1)],\n",
      " [(3, 1), (6, 1), (7, 1)],\n",
      " [(9, 1)],\n",
      " [(9, 1), (10, 1)],\n",
      " [(9, 1), (10, 1), (11, 1)],\n",
      " [(4, 1), (10, 1), (11, 1)]]\n"
     ]
    }
   ],
   "source": [
    "bow_corpus = [vocabulary.doc2bow(text) for text in processed_corpus]\n",
    "pprint.pprint(bow_corpus)"
   ]
  },
  {
   "cell_type": "code",
   "execution_count": 66,
   "id": "b8dc9c9f",
   "metadata": {},
   "outputs": [
    {
     "name": "stderr",
     "output_type": "stream",
     "text": [
      "2022-05-25 19:01:34,445 : INFO : collecting document frequencies\n",
      "2022-05-25 19:01:34,446 : INFO : PROGRESS: processing document #0\n",
      "2022-05-25 19:01:34,447 : INFO : TfidfModel lifecycle event {'msg': 'calculated IDF weights for 9 documents and 12 features (28 matrix non-zeros)', 'datetime': '2022-05-25T19:01:34.447288', 'gensim': '4.2.0', 'python': '3.9.12 (main, May  8 2022, 18:05:47) \\n[Clang 13.1.6 (clang-1316.0.21.2)]', 'platform': 'macOS-12.3.1-x86_64-i386-64bit', 'event': 'initialize'}\n"
     ]
    },
    {
     "name": "stdout",
     "output_type": "stream",
     "text": [
      "[(5, 0.5898341626740045), (11, 0.8075244024440723)]\n"
     ]
    }
   ],
   "source": [
    "tfidf = models.TfidfModel(bow_corpus)\n",
    "words = \"system minors\".lower().split()\n",
    "print(tfidf[vocabulary.doc2bow(words)])"
   ]
  },
  {
   "cell_type": "code",
   "execution_count": 67,
   "id": "e011c5c1",
   "metadata": {},
   "outputs": [
    {
     "name": "stderr",
     "output_type": "stream",
     "text": [
      "2022-05-25 19:01:34,945 : INFO : creating sparse index\n",
      "2022-05-25 19:01:34,946 : INFO : creating sparse matrix from corpus\n",
      "2022-05-25 19:01:34,947 : INFO : PROGRESS: at document #0\n",
      "2022-05-25 19:01:34,948 : INFO : created <9x16 sparse matrix of type '<class 'numpy.float32'>'\n",
      "\twith 28 stored elements in Compressed Sparse Row format>\n"
     ]
    }
   ],
   "source": [
    "index = similarities.SparseMatrixSimilarity(tfidf[bow_corpus], num_features=16)"
   ]
  },
  {
   "cell_type": "code",
   "execution_count": 68,
   "id": "6fcc8e9a",
   "metadata": {},
   "outputs": [
    {
     "name": "stdout",
     "output_type": "stream",
     "text": [
      "[(0, 0.0), (1, 0.32448703), (2, 0.41707572), (3, 0.7184812), (4, 0.0), (5, 0.0), (6, 0.0), (7, 0.0), (8, 0.0)]\n"
     ]
    }
   ],
   "source": [
    "query_doc = \"system engineering\".split()\n",
    "query_bow = vocabulary.doc2bow(query_doc)\n",
    "sims = index[tfidf[query_bow]]\n",
    "print(list(enumerate(sims)))"
   ]
  },
  {
   "cell_type": "code",
   "execution_count": 69,
   "id": "08a00cf7",
   "metadata": {},
   "outputs": [
    {
     "name": "stdout",
     "output_type": "stream",
     "text": [
      "3 0.7184812\n",
      "2 0.41707572\n",
      "1 0.32448703\n",
      "0 0.0\n",
      "4 0.0\n",
      "5 0.0\n",
      "6 0.0\n",
      "7 0.0\n",
      "8 0.0\n"
     ]
    }
   ],
   "source": [
    "for document_number, score in sorted(enumerate(sims), key=lambda x: x[1], reverse=True):\n",
    "    print(document_number, score)"
   ]
  },
  {
   "cell_type": "code",
   "execution_count": 70,
   "id": "f982766c",
   "metadata": {},
   "outputs": [],
   "source": [
    "import logging\n",
    "logging.basicConfig(format='%(asctime)s : %(levelname)s : %(message)s', level=logging.INFO)"
   ]
  },
  {
   "cell_type": "code",
   "execution_count": 78,
   "id": "141b94c2",
   "metadata": {},
   "outputs": [],
   "source": [
    "class MyCorpus:\n",
    "    def __iter__(self):\n",
    "        for line in open('https://radimrehurek.com/mycorpus.txt'):\n",
    "            yield vocabulary.doc2bow(line.lower().split())"
   ]
  },
  {
   "cell_type": "code",
   "execution_count": 79,
   "id": "256de3bb",
   "metadata": {},
   "outputs": [
    {
     "name": "stdout",
     "output_type": "stream",
     "text": [
      "<__main__.MyCorpus object at 0x133f3da00>\n"
     ]
    }
   ],
   "source": [
    "corpus_memory_friendly = MyCorpus()\n",
    "print(corpus_memory_friendly)"
   ]
  },
  {
   "cell_type": "code",
   "execution_count": 80,
   "id": "e691c1c1",
   "metadata": {},
   "outputs": [
    {
     "name": "stdout",
     "output_type": "stream",
     "text": [
      "[(0, 1), (1, 1), (2, 1)]\n",
      "[(0, 1), (3, 1), (4, 1), (5, 1), (6, 1), (7, 1)]\n",
      "[(2, 1), (5, 1), (7, 1), (8, 1)]\n",
      "[(1, 1), (5, 2), (8, 1)]\n",
      "[(3, 1), (6, 1), (7, 1)]\n",
      "[(9, 1)]\n",
      "[(9, 1), (10, 1)]\n",
      "[(9, 1), (10, 1), (11, 1)]\n",
      "[(4, 1), (10, 1), (11, 1)]\n"
     ]
    }
   ],
   "source": [
    "for vector in corpus_memory_friendly:\n",
    "    print(vector)"
   ]
  },
  {
   "cell_type": "code",
   "execution_count": 82,
   "id": "be2582d4",
   "metadata": {},
   "outputs": [
    {
     "name": "stderr",
     "output_type": "stream",
     "text": [
      "2022-05-25 20:51:24,420 : INFO : Creating /Users/shri/gensim-data\n"
     ]
    },
    {
     "name": "stdout",
     "output_type": "stream",
     "text": [
      "[==================================================] 100.0% 1662.8/1662.8MB downloaded\n"
     ]
    },
    {
     "name": "stderr",
     "output_type": "stream",
     "text": [
      "2022-05-25 20:54:54,585 : INFO : word2vec-google-news-300 downloaded\n",
      "2022-05-25 20:54:54,590 : INFO : loading projection weights from /Users/shri/gensim-data/word2vec-google-news-300/word2vec-google-news-300.gz\n",
      "2022-05-25 20:55:42,569 : INFO : KeyedVectors lifecycle event {'msg': 'loaded (3000000, 300) matrix of type float32 from /Users/shri/gensim-data/word2vec-google-news-300/word2vec-google-news-300.gz', 'binary': True, 'encoding': 'utf8', 'datetime': '2022-05-25T20:55:42.569240', 'gensim': '4.2.0', 'python': '3.9.12 (main, May  8 2022, 18:05:47) \\n[Clang 13.1.6 (clang-1316.0.21.2)]', 'platform': 'macOS-12.3.1-x86_64-i386-64bit', 'event': 'load_word2vec_format'}\n"
     ]
    }
   ],
   "source": [
    "wv = api.load('word2vec-google-news-300')"
   ]
  },
  {
   "cell_type": "code",
   "execution_count": 83,
   "id": "8d6fbf4d",
   "metadata": {},
   "outputs": [
    {
     "name": "stdout",
     "output_type": "stream",
     "text": [
      "word #0/3000000 is </s>\n",
      "word #1/3000000 is in\n",
      "word #2/3000000 is for\n",
      "word #3/3000000 is that\n",
      "word #4/3000000 is is\n",
      "word #5/3000000 is on\n",
      "word #6/3000000 is ##\n",
      "word #7/3000000 is The\n",
      "word #8/3000000 is with\n",
      "word #9/3000000 is said\n"
     ]
    }
   ],
   "source": [
    "for index, word in enumerate(wv.index_to_key):\n",
    "    if index==10:\n",
    "        break\n",
    "    print(f\"word #{index}/{len(wv.index_to_key)} is {word}\")"
   ]
  },
  {
   "cell_type": "code",
   "execution_count": 84,
   "id": "5e8ab6f7",
   "metadata": {},
   "outputs": [
    {
     "data": {
      "text/plain": [
       "array([ 1.25976562e-01,  2.97851562e-02,  8.60595703e-03,  1.39648438e-01,\n",
       "       -2.56347656e-02, -3.61328125e-02,  1.11816406e-01, -1.98242188e-01,\n",
       "        5.12695312e-02,  3.63281250e-01, -2.42187500e-01, -3.02734375e-01,\n",
       "       -1.77734375e-01, -2.49023438e-02, -1.67968750e-01, -1.69921875e-01,\n",
       "        3.46679688e-02,  5.21850586e-03,  4.63867188e-02,  1.28906250e-01,\n",
       "        1.36718750e-01,  1.12792969e-01,  5.95703125e-02,  1.36718750e-01,\n",
       "        1.01074219e-01, -1.76757812e-01, -2.51953125e-01,  5.98144531e-02,\n",
       "        3.41796875e-01, -3.11279297e-02,  1.04492188e-01,  6.17675781e-02,\n",
       "        1.24511719e-01,  4.00390625e-01, -3.22265625e-01,  8.39843750e-02,\n",
       "        3.90625000e-02,  5.85937500e-03,  7.03125000e-02,  1.72851562e-01,\n",
       "        1.38671875e-01, -2.31445312e-01,  2.83203125e-01,  1.42578125e-01,\n",
       "        3.41796875e-01, -2.39257812e-02, -1.09863281e-01,  3.32031250e-02,\n",
       "       -5.46875000e-02,  1.53198242e-02, -1.62109375e-01,  1.58203125e-01,\n",
       "       -2.59765625e-01,  2.01416016e-02, -1.63085938e-01,  1.35803223e-03,\n",
       "       -1.44531250e-01, -5.68847656e-02,  4.29687500e-02, -2.46582031e-02,\n",
       "        1.85546875e-01,  4.47265625e-01,  9.58251953e-03,  1.31835938e-01,\n",
       "        9.86328125e-02, -1.85546875e-01, -1.00097656e-01, -1.33789062e-01,\n",
       "       -1.25000000e-01,  2.83203125e-01,  1.23046875e-01,  5.32226562e-02,\n",
       "       -1.77734375e-01,  8.59375000e-02, -2.18505859e-02,  2.05078125e-02,\n",
       "       -1.39648438e-01,  2.51464844e-02,  1.38671875e-01, -1.05468750e-01,\n",
       "        1.38671875e-01,  8.88671875e-02, -7.51953125e-02, -2.13623047e-02,\n",
       "        1.72851562e-01,  4.63867188e-02, -2.65625000e-01,  8.91113281e-03,\n",
       "        1.49414062e-01,  3.78417969e-02,  2.38281250e-01, -1.24511719e-01,\n",
       "       -2.17773438e-01, -1.81640625e-01,  2.97851562e-02,  5.71289062e-02,\n",
       "       -2.89306641e-02,  1.24511719e-02,  9.66796875e-02, -2.31445312e-01,\n",
       "        5.81054688e-02,  6.68945312e-02,  7.08007812e-02, -3.08593750e-01,\n",
       "       -2.14843750e-01,  1.45507812e-01, -4.27734375e-01, -9.39941406e-03,\n",
       "        1.54296875e-01, -7.66601562e-02,  2.89062500e-01,  2.77343750e-01,\n",
       "       -4.86373901e-04, -1.36718750e-01,  3.24218750e-01, -2.46093750e-01,\n",
       "       -3.03649902e-03, -2.11914062e-01,  1.25000000e-01,  2.69531250e-01,\n",
       "        2.04101562e-01,  8.25195312e-02, -2.01171875e-01, -1.60156250e-01,\n",
       "       -3.78417969e-02, -1.20117188e-01,  1.15234375e-01, -4.10156250e-02,\n",
       "       -3.95507812e-02, -8.98437500e-02,  6.34765625e-03,  2.03125000e-01,\n",
       "        1.86523438e-01,  2.73437500e-01,  6.29882812e-02,  1.41601562e-01,\n",
       "       -9.81445312e-02,  1.38671875e-01,  1.82617188e-01,  1.73828125e-01,\n",
       "        1.73828125e-01, -2.37304688e-01,  1.78710938e-01,  6.34765625e-02,\n",
       "        2.36328125e-01, -2.08984375e-01,  8.74023438e-02, -1.66015625e-01,\n",
       "       -7.91015625e-02,  2.43164062e-01, -8.88671875e-02,  1.26953125e-01,\n",
       "       -2.16796875e-01, -1.73828125e-01, -3.59375000e-01, -8.25195312e-02,\n",
       "       -6.49414062e-02,  5.07812500e-02,  1.35742188e-01, -7.47070312e-02,\n",
       "       -1.64062500e-01,  1.15356445e-02,  4.45312500e-01, -2.15820312e-01,\n",
       "       -1.11328125e-01, -1.92382812e-01,  1.70898438e-01, -1.25000000e-01,\n",
       "        2.65502930e-03,  1.92382812e-01, -1.74804688e-01,  1.39648438e-01,\n",
       "        2.92968750e-01,  1.13281250e-01,  5.95703125e-02, -6.39648438e-02,\n",
       "        9.96093750e-02, -2.72216797e-02,  1.96533203e-02,  4.27246094e-02,\n",
       "       -2.46093750e-01,  6.39648438e-02, -2.25585938e-01, -1.68945312e-01,\n",
       "        2.89916992e-03,  8.20312500e-02,  3.41796875e-01,  4.32128906e-02,\n",
       "        1.32812500e-01,  1.42578125e-01,  7.61718750e-02,  5.98144531e-02,\n",
       "       -1.19140625e-01,  2.74658203e-03, -6.29882812e-02, -2.72216797e-02,\n",
       "       -4.82177734e-03, -8.20312500e-02, -2.49023438e-02, -4.00390625e-01,\n",
       "       -1.06933594e-01,  4.24804688e-02,  7.76367188e-02, -1.16699219e-01,\n",
       "        7.37304688e-02, -9.22851562e-02,  1.07910156e-01,  1.58203125e-01,\n",
       "        4.24804688e-02,  1.26953125e-01,  3.61328125e-02,  2.67578125e-01,\n",
       "       -1.01074219e-01, -3.02734375e-01, -5.76171875e-02,  5.05371094e-02,\n",
       "        5.26428223e-04, -2.07031250e-01, -1.38671875e-01, -8.97216797e-03,\n",
       "       -2.78320312e-02, -1.41601562e-01,  2.07031250e-01, -1.58203125e-01,\n",
       "        1.27929688e-01,  1.49414062e-01, -2.24609375e-02, -8.44726562e-02,\n",
       "        1.22558594e-01,  2.15820312e-01, -2.13867188e-01, -3.12500000e-01,\n",
       "       -3.73046875e-01,  4.08935547e-03,  1.07421875e-01,  1.06933594e-01,\n",
       "        7.32421875e-02,  8.97216797e-03, -3.88183594e-02, -1.29882812e-01,\n",
       "        1.49414062e-01, -2.14843750e-01, -1.83868408e-03,  9.91210938e-02,\n",
       "        1.57226562e-01, -1.14257812e-01, -2.05078125e-01,  9.91210938e-02,\n",
       "        3.69140625e-01, -1.97265625e-01,  3.54003906e-02,  1.09375000e-01,\n",
       "        1.31835938e-01,  1.66992188e-01,  2.35351562e-01,  1.04980469e-01,\n",
       "       -4.96093750e-01, -1.64062500e-01, -1.56250000e-01, -5.22460938e-02,\n",
       "        1.03027344e-01,  2.43164062e-01, -1.88476562e-01,  5.07812500e-02,\n",
       "       -9.37500000e-02, -6.68945312e-02,  2.27050781e-02,  7.61718750e-02,\n",
       "        2.89062500e-01,  3.10546875e-01, -5.37109375e-02,  2.28515625e-01,\n",
       "        2.51464844e-02,  6.78710938e-02, -1.21093750e-01, -2.15820312e-01,\n",
       "       -2.73437500e-01, -3.07617188e-02, -3.37890625e-01,  1.53320312e-01,\n",
       "        2.33398438e-01, -2.08007812e-01,  3.73046875e-01,  8.20312500e-02,\n",
       "        2.51953125e-01, -7.61718750e-02, -4.66308594e-02, -2.23388672e-02,\n",
       "        2.99072266e-02, -5.93261719e-02, -4.66918945e-03, -2.44140625e-01,\n",
       "       -2.09960938e-01, -2.87109375e-01, -4.54101562e-02, -1.77734375e-01,\n",
       "       -2.79296875e-01, -8.59375000e-02,  9.13085938e-02,  2.51953125e-01],\n",
       "      dtype=float32)"
      ]
     },
     "execution_count": 84,
     "metadata": {},
     "output_type": "execute_result"
    }
   ],
   "source": [
    "wv['king']"
   ]
  },
  {
   "cell_type": "code",
   "execution_count": 89,
   "id": "59b27c43",
   "metadata": {},
   "outputs": [],
   "source": [
    "try:\n",
    "    vec_cameroon = wv['ex']\n",
    "except KeyError:\n",
    "    print(\"not found\")\n"
   ]
  },
  {
   "cell_type": "code",
   "execution_count": 90,
   "id": "7f841bae",
   "metadata": {},
   "outputs": [
    {
     "name": "stdout",
     "output_type": "stream",
     "text": [
      "'car'\t'minivan'\t0.69\n",
      "'car'\t'bicycle'\t0.54\n",
      "'car'\t'airplane'\t0.42\n",
      "'car'\t'cereal'\t0.14\n",
      "'car'\t'communism'\t0.06\n"
     ]
    }
   ],
   "source": [
    "pairs = [\n",
    "    ('car', 'minivan'),   # a minivan is a kind of car\n",
    "    ('car', 'bicycle'),   # still a wheeled vehicle\n",
    "    ('car', 'airplane'),  # ok, no wheels, but still a vehicle\n",
    "    ('car', 'cereal'),    # ... and so on\n",
    "    ('car', 'communism'),\n",
    "]\n",
    "for w1, w2 in pairs:\n",
    "    print('%r\\t%r\\t%.2f' % (w1, w2, wv.similarity(w1, w2)))"
   ]
  },
  {
   "cell_type": "code",
   "execution_count": 91,
   "id": "29c3655c",
   "metadata": {},
   "outputs": [],
   "source": [
    "#training your own model"
   ]
  },
  {
   "cell_type": "code",
   "execution_count": 93,
   "id": "6d37c7e3",
   "metadata": {},
   "outputs": [],
   "source": [
    "class MyCorpus1:\n",
    "    def __iter__(self):\n",
    "        corpus_path = datapath('lee_background.cor')\n",
    "        for line in open(corpus_path):\n",
    "            yield utils.simple_preprocess(line)"
   ]
  },
  {
   "cell_type": "code",
   "execution_count": 96,
   "id": "af8d5ef2",
   "metadata": {},
   "outputs": [
    {
     "name": "stderr",
     "output_type": "stream",
     "text": [
      "2022-05-25 21:11:16,012 : INFO : collecting all words and their counts\n",
      "2022-05-25 21:11:16,013 : INFO : PROGRESS: at sentence #0, processed 0 words, keeping 0 word types\n",
      "2022-05-25 21:11:16,116 : INFO : collected 6981 word types from a corpus of 58152 raw words and 300 sentences\n",
      "2022-05-25 21:11:16,117 : INFO : Creating a fresh vocabulary\n",
      "2022-05-25 21:11:16,127 : INFO : Word2Vec lifecycle event {'msg': 'effective_min_count=5 retains 1750 unique words (25.07% of original 6981, drops 5231)', 'datetime': '2022-05-25T21:11:16.127940', 'gensim': '4.2.0', 'python': '3.9.12 (main, May  8 2022, 18:05:47) \\n[Clang 13.1.6 (clang-1316.0.21.2)]', 'platform': 'macOS-12.3.1-x86_64-i386-64bit', 'event': 'prepare_vocab'}\n",
      "2022-05-25 21:11:16,129 : INFO : Word2Vec lifecycle event {'msg': 'effective_min_count=5 leaves 49335 word corpus (84.84% of original 58152, drops 8817)', 'datetime': '2022-05-25T21:11:16.129259', 'gensim': '4.2.0', 'python': '3.9.12 (main, May  8 2022, 18:05:47) \\n[Clang 13.1.6 (clang-1316.0.21.2)]', 'platform': 'macOS-12.3.1-x86_64-i386-64bit', 'event': 'prepare_vocab'}\n",
      "2022-05-25 21:11:16,144 : INFO : deleting the raw counts dictionary of 6981 items\n",
      "2022-05-25 21:11:16,145 : INFO : sample=0.001 downsamples 51 most-common words\n",
      "2022-05-25 21:11:16,146 : INFO : Word2Vec lifecycle event {'msg': 'downsampling leaves estimated 35935.33721568072 word corpus (72.8%% of prior 49335)', 'datetime': '2022-05-25T21:11:16.146839', 'gensim': '4.2.0', 'python': '3.9.12 (main, May  8 2022, 18:05:47) \\n[Clang 13.1.6 (clang-1316.0.21.2)]', 'platform': 'macOS-12.3.1-x86_64-i386-64bit', 'event': 'prepare_vocab'}\n",
      "2022-05-25 21:11:16,172 : INFO : estimated required memory for 1750 words and 100 dimensions: 2275000 bytes\n",
      "2022-05-25 21:11:16,173 : INFO : resetting layer weights\n",
      "2022-05-25 21:11:16,175 : INFO : Word2Vec lifecycle event {'update': False, 'trim_rule': 'None', 'datetime': '2022-05-25T21:11:16.175747', 'gensim': '4.2.0', 'python': '3.9.12 (main, May  8 2022, 18:05:47) \\n[Clang 13.1.6 (clang-1316.0.21.2)]', 'platform': 'macOS-12.3.1-x86_64-i386-64bit', 'event': 'build_vocab'}\n",
      "2022-05-25 21:11:16,177 : INFO : Word2Vec lifecycle event {'msg': 'training model with 3 workers on 1750 vocabulary and 100 features, using sg=0 hs=0 sample=0.001 negative=5 window=5 shrink_windows=True', 'datetime': '2022-05-25T21:11:16.177394', 'gensim': '4.2.0', 'python': '3.9.12 (main, May  8 2022, 18:05:47) \\n[Clang 13.1.6 (clang-1316.0.21.2)]', 'platform': 'macOS-12.3.1-x86_64-i386-64bit', 'event': 'train'}\n",
      "2022-05-25 21:11:16,293 : INFO : EPOCH 0: training on 58152 raw words (35883 effective words) took 0.1s, 320140 effective words/s\n",
      "2022-05-25 21:11:16,398 : INFO : EPOCH 1: training on 58152 raw words (35900 effective words) took 0.1s, 348427 effective words/s\n",
      "2022-05-25 21:11:16,494 : INFO : EPOCH 2: training on 58152 raw words (35954 effective words) took 0.1s, 387516 effective words/s\n",
      "2022-05-25 21:11:16,589 : INFO : EPOCH 3: training on 58152 raw words (35847 effective words) took 0.1s, 383654 effective words/s\n",
      "2022-05-25 21:11:16,684 : INFO : EPOCH 4: training on 58152 raw words (35854 effective words) took 0.1s, 382005 effective words/s\n",
      "2022-05-25 21:11:16,685 : INFO : Word2Vec lifecycle event {'msg': 'training on 290760 raw words (179438 effective words) took 0.5s, 353967 effective words/s', 'datetime': '2022-05-25T21:11:16.685587', 'gensim': '4.2.0', 'python': '3.9.12 (main, May  8 2022, 18:05:47) \\n[Clang 13.1.6 (clang-1316.0.21.2)]', 'platform': 'macOS-12.3.1-x86_64-i386-64bit', 'event': 'train'}\n",
      "2022-05-25 21:11:16,686 : INFO : Word2Vec lifecycle event {'params': 'Word2Vec<vocab=1750, vector_size=100, alpha=0.025>', 'datetime': '2022-05-25T21:11:16.686121', 'gensim': '4.2.0', 'python': '3.9.12 (main, May  8 2022, 18:05:47) \\n[Clang 13.1.6 (clang-1316.0.21.2)]', 'platform': 'macOS-12.3.1-x86_64-i386-64bit', 'event': 'created'}\n"
     ]
    }
   ],
   "source": [
    "sentences = MyCorpus1()\n",
    "model = gensim.models.Word2Vec(sentences=sentences)"
   ]
  },
  {
   "cell_type": "code",
   "execution_count": 97,
   "id": "f6f09028",
   "metadata": {},
   "outputs": [],
   "source": [
    "vec_king = model.wv['king']"
   ]
  },
  {
   "cell_type": "code",
   "execution_count": 98,
   "id": "f78063e4",
   "metadata": {},
   "outputs": [
    {
     "name": "stdout",
     "output_type": "stream",
     "text": [
      "[-0.01889245  0.05629176  0.01286559  0.01479403  0.01160088 -0.10238899\n",
      "  0.04249738  0.1062775  -0.0064137  -0.01868969 -0.00676679 -0.06609661\n",
      "  0.00742941  0.03487991  0.00694289  0.01461264 -0.00291902 -0.00235332\n",
      " -0.02253004 -0.07603454  0.04539069  0.01061249  0.01498174 -0.00150642\n",
      " -0.02440765  0.02436418 -0.02341575 -0.01432013 -0.0343688   0.01650516\n",
      "  0.04107237 -0.05060134  0.04546889 -0.03985222 -0.01044462  0.0587304\n",
      "  0.01842247  0.01113766 -0.02283513 -0.03731803 -0.01817027  0.00486008\n",
      " -0.01200934  0.01772623  0.03334213 -0.02412263 -0.03237925 -0.00273005\n",
      "  0.00970578  0.03843553  0.02031378 -0.02890181 -0.02033118  0.00033254\n",
      " -0.01801702  0.02124654 -0.00066091  0.00161551 -0.02856278  0.00391214\n",
      " -0.01743438  0.00062798  0.01065544 -0.00433314 -0.03588776  0.07356421\n",
      "  0.01845434  0.04056078 -0.04807112  0.05832874 -0.01266179  0.00544823\n",
      "  0.06034534 -0.00936798  0.04492454  0.03395958 -0.00128825 -0.02531332\n",
      " -0.04906454 -0.017402   -0.03954618  0.00960503 -0.03940557  0.04829668\n",
      " -0.00233023 -0.01669697  0.02634218  0.04025513  0.05894071  0.0159124\n",
      "  0.04503651  0.06454064  0.05441955  0.01328514  0.11076644  0.02534731\n",
      "  0.05619169 -0.00654175  0.0085541  -0.00738863]\n"
     ]
    }
   ],
   "source": [
    "print(vec_king)"
   ]
  },
  {
   "cell_type": "code",
   "execution_count": 99,
   "id": "f27656eb",
   "metadata": {},
   "outputs": [
    {
     "name": "stdout",
     "output_type": "stream",
     "text": [
      "word #0/3000000 is </s>\n",
      "word #1/3000000 is in\n",
      "word #2/3000000 is for\n",
      "word #3/3000000 is that\n",
      "word #4/3000000 is is\n",
      "word #5/3000000 is on\n",
      "word #6/3000000 is ##\n",
      "word #7/3000000 is The\n",
      "word #8/3000000 is with\n",
      "word #9/3000000 is said\n"
     ]
    }
   ],
   "source": [
    "for index, word in enumerate(wv.index_to_key):\n",
    "    if index==10:\n",
    "        break\n",
    "    print(f\"word #{index}/{len(wv.index_to_key)} is {word}\")"
   ]
  },
  {
   "cell_type": "code",
   "execution_count": 101,
   "id": "237b333c",
   "metadata": {},
   "outputs": [
    {
     "name": "stderr",
     "output_type": "stream",
     "text": [
      "2022-05-25 21:19:08,817 : INFO : Word2Vec lifecycle event {'fname_or_handle': '/var/folders/21/3qr5by0s2yd2xqyy0hshr3kh0000gp/T/gensim-model-dvp261b8', 'separately': 'None', 'sep_limit': 10485760, 'ignore': frozenset(), 'datetime': '2022-05-25T21:19:08.817783', 'gensim': '4.2.0', 'python': '3.9.12 (main, May  8 2022, 18:05:47) \\n[Clang 13.1.6 (clang-1316.0.21.2)]', 'platform': 'macOS-12.3.1-x86_64-i386-64bit', 'event': 'saving'}\n",
      "2022-05-25 21:19:08,818 : INFO : not storing attribute cum_table\n",
      "2022-05-25 21:19:08,824 : INFO : saved /var/folders/21/3qr5by0s2yd2xqyy0hshr3kh0000gp/T/gensim-model-dvp261b8\n",
      "2022-05-25 21:19:08,824 : INFO : loading Word2Vec object from /var/folders/21/3qr5by0s2yd2xqyy0hshr3kh0000gp/T/gensim-model-dvp261b8\n",
      "2022-05-25 21:19:08,827 : INFO : loading wv recursively from /var/folders/21/3qr5by0s2yd2xqyy0hshr3kh0000gp/T/gensim-model-dvp261b8.wv.* with mmap=None\n",
      "2022-05-25 21:19:08,827 : INFO : setting ignored attribute cum_table to None\n",
      "2022-05-25 21:19:08,847 : INFO : Word2Vec lifecycle event {'fname': '/var/folders/21/3qr5by0s2yd2xqyy0hshr3kh0000gp/T/gensim-model-dvp261b8', 'datetime': '2022-05-25T21:19:08.847724', 'gensim': '4.2.0', 'python': '3.9.12 (main, May  8 2022, 18:05:47) \\n[Clang 13.1.6 (clang-1316.0.21.2)]', 'platform': 'macOS-12.3.1-x86_64-i386-64bit', 'event': 'loaded'}\n"
     ]
    }
   ],
   "source": [
    "with tempfile.NamedTemporaryFile(prefix='gensim-model-', delete=False) as tmp:\n",
    "    temporary_filepath = tmp.name\n",
    "    model.save(temporary_filepath)\n",
    "    new_model = gensim.models.Word2Vec.load(temporary_filepath)"
   ]
  },
  {
   "cell_type": "code",
   "execution_count": null,
   "id": "53bfd358",
   "metadata": {},
   "outputs": [],
   "source": []
  }
 ],
 "metadata": {
  "kernelspec": {
   "display_name": "Python 3 (ipykernel)",
   "language": "python",
   "name": "python3"
  },
  "language_info": {
   "codemirror_mode": {
    "name": "ipython",
    "version": 3
   },
   "file_extension": ".py",
   "mimetype": "text/x-python",
   "name": "python",
   "nbconvert_exporter": "python",
   "pygments_lexer": "ipython3",
   "version": "3.9.12"
  }
 },
 "nbformat": 4,
 "nbformat_minor": 5
}
